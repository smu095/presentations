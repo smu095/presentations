{
 "cells": [
  {
   "cell_type": "markdown",
   "metadata": {},
   "source": [
    "# 0. Setup"
   ]
  },
  {
   "cell_type": "code",
   "execution_count": null,
   "metadata": {},
   "outputs": [],
   "source": [
    "# Imports\n",
    "import arviz as az\n",
    "import io\n",
    "import matplotlib.pyplot as plt\n",
    "import numpy as np\n",
    "import pandas as pd\n",
    "import pymc3 as pm\n",
    "import scipy\n",
    "import scipy.stats as st\n",
    "import theano.tensor as tt\n",
    "\n",
    "\n",
    "# Helper functions\n",
    "def plot_golf_data(data, ax=None):\n",
    "    \"\"\"Utility function to standardize a pretty plotting of the golf data.\"\"\"\n",
    "    if ax is None:\n",
    "        _, ax = plt.subplots(figsize=(10, 6))\n",
    "    bg_color = ax.get_facecolor()\n",
    "    ax.vlines(\n",
    "        data[\"distance\"],\n",
    "        ymin=data[\"p_hat\"] - data[\"se\"],\n",
    "        ymax=data[\"p_hat\"] + data[\"se\"],\n",
    "        label=None,\n",
    "    )\n",
    "    ax.plot(data[\"distance\"], data[\"p_hat\"], 'o', mfc=bg_color, label=None)\n",
    "    \n",
    "\n",
    "    ax.set_xlabel(\"Distance from hole\")\n",
    "    ax.set_ylabel(\"Proportion of putts made\")\n",
    "    ax.set_ylim(bottom=0, top=1)\n",
    "\n",
    "    ax.set_xlim(left=0)\n",
    "    ax.grid(True, axis='y', alpha=0.7)\n",
    "    return ax"
   ]
  },
  {
   "cell_type": "markdown",
   "metadata": {},
   "source": [
    "# 1. Introduction"
   ]
  },
  {
   "cell_type": "markdown",
   "metadata": {},
   "source": [
    "The following example is based on a study by [Gelman and Nolan (2002)](http://www.stat.columbia.edu/~gelman/research/published/golf.pdf), where they use Bayesian methods to estimate the accuracy of pro golfers with respect to putting.\n",
    "\n",
    "The data comes from Don Berry's textbook *Statistics: A Bayesian Perspective* (1995) and describes the number of tries and successes of golf putting from a range of distances.\n",
    "\n",
    "This example is also featured in the case studies sections of the [Stan](https://mc-stan.org/users/documentation/case-studies/golf.html) and [PyMC3](https://docs.pymc.io/notebooks/putting_workflow.html) documentation. This notebook is based heavily on these two sources."
   ]
  },
  {
   "cell_type": "markdown",
   "metadata": {},
   "source": [
    "## 1.1 Data"
   ]
  },
  {
   "cell_type": "code",
   "execution_count": null,
   "metadata": {},
   "outputs": [],
   "source": [
    "# Putting data from Berry (1995)\n",
    "data = pd.read_csv(\"golf_1995.csv\", sep=\",\")"
   ]
  },
  {
   "cell_type": "code",
   "execution_count": null,
   "metadata": {},
   "outputs": [],
   "source": [
    "data[\"p_hat\"] = data[\"successes\"] / data[\"tries\"]\n",
    "data"
   ]
  },
  {
   "cell_type": "markdown",
   "metadata": {},
   "source": [
    "The authors start by estimating the standard error of the estimated probability of success for each distance in order to get a sense of how closely the model should be expected to fit the data, given by\n",
    "\n",
    "$SE(\\hat{p}_i) = \\sqrt{\\dfrac{\\hat{p}_i(1 - \\hat{p}_i)}{n}}$"
   ]
  },
  {
   "cell_type": "code",
   "execution_count": null,
   "metadata": {},
   "outputs": [],
   "source": [
    "def se(data):\n",
    "    \"\"\"Calculate standard error of estimator.\"\"\"\n",
    "    p_hat = data[\"p_hat\"]\n",
    "    n = data[\"tries\"]\n",
    "    return np.sqrt(p_hat * (1 - p_hat) / n)\n",
    "\n",
    "data[\"se\"] = se(data)"
   ]
  },
  {
   "cell_type": "code",
   "execution_count": null,
   "metadata": {},
   "outputs": [],
   "source": [
    "ax = plot_golf_data(data)\n",
    "ax.set_title(\"Overview of data from Berry (1995)\")\n",
    "plt.show()"
   ]
  },
  {
   "cell_type": "markdown",
   "metadata": {},
   "source": [
    "# 2. Baseline: Logit model"
   ]
  },
  {
   "cell_type": "markdown",
   "metadata": {},
   "source": [
    "As a baseline model, we fit a simple logistic regression to the data, where the probability is give as a function of the distance $x_j$ from the hole. The data generating process for $y_j$ is assumed to be a [binomial distribution](https://en.wikipedia.org/wiki/Binomial_distribution):\n",
    "\n",
    "$$y_j \\sim \\text{Binomial}(n_j, p_j),\\\\\n",
    "p_j = \\dfrac{1}{1 + e^{-(a + bx_j)}},  \\quad \\text{for} j = 1 \\ldots J,\\\\\n",
    "a, b \\sim \\text{Normal}(0, 1)$$ "
   ]
  },
  {
   "cell_type": "code",
   "execution_count": null,
   "metadata": {},
   "outputs": [],
   "source": [
    "def logit_model(data):\n",
    "    \"\"\"Logistic regression model.\"\"\"\n",
    "    with pm.Model() as logit_binomial:\n",
    "        # Priors\n",
    "        a = pm.Normal('a', mu=0, tau=1)\n",
    "        b = pm.Normal('b', mu=0, tau=1)\n",
    "\n",
    "        # Logit link\n",
    "        link = pm.math.invlogit(a + b*data[\"distance\"])\n",
    "        \n",
    "        # Likelihood\n",
    "        success = pm.Binomial(\n",
    "            'success',\n",
    "            n=data[\"tries\"],\n",
    "            p=link,\n",
    "            observed=data[\"successes\"]\n",
    "        )\n",
    "    return logit_binomial\n",
    "\n",
    "# Visualise model as graph\n",
    "pm.model_to_graphviz(logit_model(data))"
   ]
  },
  {
   "cell_type": "code",
   "execution_count": null,
   "metadata": {},
   "outputs": [],
   "source": [
    "# Sampling from posterior\n",
    "with logit_model(data):\n",
    "    logit_trace = pm.sample(10000, tune=1000)"
   ]
  },
  {
   "cell_type": "code",
   "execution_count": null,
   "metadata": {},
   "outputs": [],
   "source": [
    "# Retrieving summaries from models\n",
    "pm.summary(logit_trace)"
   ]
  },
  {
   "cell_type": "code",
   "execution_count": null,
   "metadata": {},
   "outputs": [],
   "source": [
    "# Plotting posterior distributions of a, b\n",
    "pm.plot_posterior(logit_trace)\n",
    "plt.show()"
   ]
  },
  {
   "cell_type": "markdown",
   "metadata": {},
   "source": [
    "Our estimates seem to make sense. As the distance $x_j \\rightarrow 0$, it seems intuitive that the probability of success is high. Conversely, if $x_j \\rightarrow \\infty$, the probability of success should be close to zero."
   ]
  },
  {
   "cell_type": "code",
   "execution_count": null,
   "metadata": {},
   "outputs": [],
   "source": [
    "p_test = lambda x: scipy.special.expit(2.224 - 0.255*x)\n",
    "print(f\" x = 0 --> p = {p_test(0)}\")\n",
    "print(f\" x = really big --> p = {p_test(10**5)}\")"
   ]
  },
  {
   "cell_type": "markdown",
   "metadata": {},
   "source": [
    "## 2.1 Baseline: Posterior predictive samples"
   ]
  },
  {
   "cell_type": "markdown",
   "metadata": {},
   "source": [
    "We plot the our probability model by drawing 50 samples from the posterior distribution of $a$ and $b$ and calculating the inverse logit (expit) for each sample:"
   ]
  },
  {
   "cell_type": "code",
   "execution_count": null,
   "metadata": {},
   "outputs": [],
   "source": [
    "# Plotting\n",
    "ax = plot_golf_data(data)\n",
    "distances = np.linspace(0, data[\"distance\"].max(), 200)\n",
    "\n",
    "# Plotting individual predicted sigmoids for 50 random draws of (a, b)\n",
    "for idx in np.random.randint(0, len(logit_trace), 50):\n",
    "    post_logit = scipy.special.expit(logit_trace[\"a\"][idx] + logit_trace[\"b\"][idx] * distances)\n",
    "    ax.plot(\n",
    "        distances,\n",
    "        post_logit,\n",
    "        lw=1,\n",
    "        color=\"tab:orange\",\n",
    "        alpha=.7,\n",
    "    )\n",
    "    \n",
    "# Plotting average prediction over all sampled (a, b)\n",
    "logit_average = scipy.special.expit(\n",
    "    logit_trace[\"a\"].reshape(-1, 1) + logit_trace[\"b\"].reshape(-1, 1) * distances,\n",
    ").mean(axis=0)\n",
    "\n",
    "ax.plot(\n",
    "    distances,\n",
    "    logit_average,\n",
    "    label = \"Inverse logit mean\",\n",
    "    color=\"k\",\n",
    "    linestyle=\"--\",\n",
    ")\n",
    "\n",
    "ax.set_title(\"Fitted logistic regression\")\n",
    "ax.legend()\n",
    "plt.show()"
   ]
  },
  {
   "cell_type": "markdown",
   "metadata": {},
   "source": [
    "We see that:\n",
    "* The posterior uncertainty is relatively low.\n",
    "* The fit is OK, but we tend to overestimate the difficulty of making short putts and underestimate the probability of making long puts. "
   ]
  },
  {
   "cell_type": "markdown",
   "metadata": {},
   "source": [
    "# 3. Modelling from first principles"
   ]
  },
  {
   "cell_type": "markdown",
   "metadata": {},
   "source": [
    "Not satisfied with the logistic regression, we contact a golf pro who also happens to have a background in mathematics. She suggests that as an alternative, we could build a model from first principles and fit it to the data.\n",
    "\n",
    "She provides us with the following sketch (from the [Stan case study](https://mc-stan.org/users/documentation/case-studies/golf.html)):\n",
    "> The graph below shows a simplified sketch of a golf shot. The dotted line represents the angle within which the ball of radius r must be hit so that it falls within the hole of radius R. This threshold angle is $sin^{−1}\\Bigg(\\dfrac{R−r}{x}\\Bigg)$. The graph, which is not to scale, is intended to illustrate the geometry of the ball needing to go into the hole. \n",
    "\n",
    "![](data:image/png;base64,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)"
   ]
  },
  {
   "cell_type": "markdown",
   "metadata": {},
   "source": [
    "If the angle is less (in absolute value) than the threshold, the show will go in the cup. The mathematically inclined golf pro suggests that we can assume that the putter will attempt to shoot perfectly straight, but that external factors will interfere with this goal. She suggests modelling this uncertainty using a normal distribution centered at 0 (i.e. assume that shots don't deviate systematically to the right or left) with some variance in angle (in radians) given by $\\sigma_{\\text{angle}}$.\n",
    "\n",
    "Since our golf expert is also a expert mathematician, she provides us with an expression for the probability that the ball goes in the cup (which is the probability that the angle is less than the threshold):\n",
    "\n",
    "$$p\\Bigg(\\vert\\text{angle}\\vert < sin^{−1}\\Bigg(\\dfrac{R−r}{x}\\Bigg)\\Bigg) = 2\\Theta\\Bigg(\\dfrac{1}{\\sigma_{\\text{angle}}}sin^{−1}\\Bigg(\\dfrac{R−r}{x}\\Bigg)\\Bigg) - 1,$$ \n",
    "\n",
    "where $\\Theta$ is the cumulative normal distribution function.\n",
    "\n",
    "The full model is then given by\n",
    "\n",
    "$$y_j \\sim \\text{Binomial}(n_j, p_j)\\\\\n",
    "p_j = 2\\Theta\\Bigg(\\dfrac{1}{\\sigma_{\\text{angle}}}sin^{−1}\\Bigg(\\dfrac{R−r}{x}\\Bigg)\\Bigg) - 1, \\quad \\text{for} j = 1 \\ldots J.$$\n",
    "\n",
    "Prior to fitting the model, our expert provides us with the appropriate measurements for the golf ball and cup radii. We also plot the probabilities given by the above expression for different values of $\\sigma_{\\text{angle}}$ to get a feel for the model:"
   ]
  },
  {
   "cell_type": "code",
   "execution_count": null,
   "metadata": {},
   "outputs": [],
   "source": [
    "def forward_angle_model(variance_of_shot, distance):\n",
    "    \"\"\"Geometry-based probabilities.\"\"\"\n",
    "    BALL_RADIUS = (1.68 / 2) / 12\n",
    "    CUP_RADIUS = (4.25 / 2) / 12\n",
    "    return 2 * st.norm(0, variance_of_shot).cdf(np.arcsin((CUP_RADIUS - BALL_RADIUS) / distance)) - 1\n",
    "\n",
    "# Plotting\n",
    "variance_of_shot = (0.01, 0.02, 0.05, 0.1, 0.2, 1)\n",
    "distances = np.linspace(0, data[\"distance\"].max(), 200)\n",
    "ax = plot_golf_data(data)\n",
    "\n",
    "for sigma in variance_of_shot:\n",
    "    ax.plot(distances, forward_angle_model(sigma, distances), label=f\"$\\sigma$ = {sigma}\")\n",
    "\n",
    "ax.set_title(\"Model prediction for selected amounts of variance\")\n",
    "ax.legend()\n",
    "plt.show()"
   ]
  },
  {
   "cell_type": "code",
   "execution_count": null,
   "metadata": {},
   "outputs": [],
   "source": [
    "def phi(x):\n",
    "    \"\"\"Calculates the standard normal CDF.\"\"\"\n",
    "    return 0.5 + 0.5 * tt.erf(x / tt.sqrt(2.))\n",
    "\n",
    "def angle_model(data):\n",
    "    \"\"\"Geometry-based model.\"\"\"\n",
    "    BALL_RADIUS = (1.68 / 2) / 12\n",
    "    CUP_RADIUS = (4.25 / 2) / 12\n",
    "    \n",
    "    with pm.Model() as angle_model:\n",
    "        variance_of_shot = pm.HalfNormal('variance_of_shot')\n",
    "        prob = 2 * phi(tt.arcsin((CUP_RADIUS - BALL_RADIUS) / data[\"distance\"]) / variance_of_shot) - 1\n",
    "        prob_success = pm.Deterministic('prob_success', prob)\n",
    "        success = pm.Binomial('success', n=data[\"tries\"], p=prob_success, observed=data[\"successes\"])\n",
    "    \n",
    "    return angle_model\n",
    "\n",
    "# Plotting model as graph\n",
    "pm.model_to_graphviz(angle_model(data))"
   ]
  },
  {
   "cell_type": "markdown",
   "metadata": {},
   "source": [
    "## 3.1 Geometry-based model: Prior predictive checks"
   ]
  },
  {
   "cell_type": "code",
   "execution_count": null,
   "metadata": {},
   "outputs": [],
   "source": [
    "# Drawing 500 samples from the prior predictive distribution\n",
    "with angle_model(data):\n",
    "    angle_prior = pm.sample_prior_predictive(500)\n",
    "\n",
    "# Use these variances to sample an equivalent amount of random angles from a normal distribution\n",
    "angle_of_shot = np.random.normal(0, angle_prior['variance_of_shot'])\n",
    "distance = 20\n",
    "\n",
    "# Calculate possible end positions\n",
    "end_positions = np.array([\n",
    "    distance * np.cos(angle_of_shot),\n",
    "    distance * np.sin(angle_of_shot)\n",
    "])\n",
    "\n",
    "# Plotting\n",
    "fig, ax = plt.subplots(figsize=(10, 6))\n",
    "\n",
    "for endx, endy in end_positions.T:\n",
    "    ax.plot([0, endx], [0, endy], 'k-o', lw=1, mfc='w', alpha=0.1);\n",
    "\n",
    "ax.plot(0, 0, 'o', color=\"tab:blue\", label='Start', ms=10)\n",
    "ax.plot(distance, 0, 'o', color=\"tab:orange\", label='Goal', ms=10)\n",
    "\n",
    "ax.set_title(f\"Prior distribution of putts from {distance}ft away\")\n",
    "ax.legend()\n",
    "plt.show()"
   ]
  },
  {
   "cell_type": "markdown",
   "metadata": {},
   "source": [
    "## 3.2 Fitting model"
   ]
  },
  {
   "cell_type": "code",
   "execution_count": null,
   "metadata": {
    "scrolled": true
   },
   "outputs": [],
   "source": [
    "# Draw samples from posterior distribution\n",
    "with angle_model(data):\n",
    "    angle_trace = pm.sample(10000, tune=1000)"
   ]
  },
  {
   "cell_type": "code",
   "execution_count": null,
   "metadata": {},
   "outputs": [],
   "source": [
    "pm.summary(angle_trace)"
   ]
  },
  {
   "cell_type": "code",
   "execution_count": null,
   "metadata": {},
   "outputs": [],
   "source": [
    "# Plotting posterior distribution of angle variance\n",
    "pm.plot_posterior(angle_trace[\"variance_of_shot\"])\n",
    "pm.forestplot(angle_trace)\n",
    "plt.show()"
   ]
  },
  {
   "cell_type": "markdown",
   "metadata": {},
   "source": [
    "## 3.3 Logistic regression vs. geometry-based model"
   ]
  },
  {
   "cell_type": "code",
   "execution_count": null,
   "metadata": {
    "scrolled": false
   },
   "outputs": [],
   "source": [
    "# Plot model\n",
    "ax = plot_golf_data(data)\n",
    "distances = np.linspace(0, data[\"distance\"].max(), 200)\n",
    "\n",
    "for idx in np.random.randint(0, len(angle_trace), 50):\n",
    "    ax.plot(\n",
    "        distances,\n",
    "        forward_angle_model(angle_trace['variance_of_shot'][idx], distances),\n",
    "        lw=1,\n",
    "        color=\"tab:orange\",\n",
    "        alpha=0.7,\n",
    "    )\n",
    "\n",
    "# Average of angle model\n",
    "ax.plot(\n",
    "    distances,\n",
    "    forward_angle_model(angle_trace['variance_of_shot'].mean(), distances),\n",
    "    label='Geometry-based model',\n",
    "    color=\"tab:blue\",\n",
    ")\n",
    "\n",
    "# Compare with average of logit model\n",
    "ax.plot(distances, logit_average, color=\"tab:green\", label='Logit-binomial model (avg.)')\n",
    "\n",
    "ax.set_title(\"Comparing the fit of geometry-based and logit-binomial model\")\n",
    "ax.set_ylim([0, 1.05])\n",
    "ax.legend()\n",
    "plt.show()"
   ]
  },
  {
   "cell_type": "code",
   "execution_count": null,
   "metadata": {},
   "outputs": [],
   "source": [
    "# Comparing models using WAIC (Watanabe-Akaike Information Criterion)\n",
    "models = {\n",
    "    \"logit\": logit_trace,\n",
    "    \"geometry\": angle_trace,\n",
    "}\n",
    "pm.compare(models)"
   ]
  },
  {
   "cell_type": "markdown",
   "metadata": {},
   "source": [
    "## 3.4 Geometry-based model: Posterior predictive check"
   ]
  },
  {
   "cell_type": "code",
   "execution_count": null,
   "metadata": {
    "scrolled": false
   },
   "outputs": [],
   "source": [
    "# Randomly sample a sigma from the posterior distribution\n",
    "variances = np.random.choice(angle_trace['variance_of_shot'].flatten())\n",
    "\n",
    "# Randomly sample 500 angles based on sample from posterior\n",
    "angle_of_shot = np.random.normal(0, variances, 500)  # radians\n",
    "distance = 20\n",
    "\n",
    "# Calculate end positions\n",
    "end_positions = np.array([\n",
    "    distance * np.cos(angle_of_shot),\n",
    "    distance * np.sin(angle_of_shot)\n",
    "])\n",
    "\n",
    "# Plotting\n",
    "fig, ax = plt.subplots(figsize=(10, 6))\n",
    "\n",
    "for endx, endy in end_positions.T:\n",
    "    ax.plot([0, endx], [0, endy], '-o', color=\"gray\", lw=1, mfc='w', alpha=0.05);\n",
    "\n",
    "ax.plot(0, 0, 'o', color=\"tab:blue\", label='Start', ms=10)\n",
    "ax.plot(distance, 0, 'o', color=\"tab:orange\", label='Goal', ms=10)\n",
    "\n",
    "ax.set_xlim(-21, 21)\n",
    "ax.set_ylim(-21, 21)\n",
    "ax.set_title(f\"Posterior distribution of putts from {distance}ft.\")\n",
    "\n",
    "ax.legend()\n",
    "plt.show()"
   ]
  },
  {
   "cell_type": "markdown",
   "metadata": {},
   "source": [
    "# 4. Further work "
   ]
  },
  {
   "cell_type": "markdown",
   "metadata": {},
   "source": [
    "The [official](https://docs.pymc.io/notebooks/putting_workflow.html) [docs](https://mc-stan.org/users/documentation/case-studies/golf.html) further extend the angle model by accounting for distance and distance plus dispersion. Furthermore, the [PyMC3 docs](https://docs.pymc.io/notebooks/putting_workflow.html) show how you can model the final position of the putt, given starting distance from the cup, e.g.:\n",
    "\n",
    "![](https://docs.pymc.io/_images/notebooks_putting_workflow_52_0.png)\n",
    "\n",
    "![](https://docs.pymc.io/_images/notebooks_putting_workflow_53_0.png)\n",
    "\n",
    "The authors show how this information can be leveraged to\n",
    "\n",
    "> [...] work out how many putts a player may need to take from a given distance. This can influence strategic decisions like trying to reach the green in fewer shots, which may lead to a longer first putt, vs. a more conservative approach. We do this by simulating putts until they have all gone in.\n",
    "\n",
    "![](https://docs.pymc.io/_images/notebooks_putting_workflow_56_0.png)"
   ]
  }
 ],
 "metadata": {
  "kernelspec": {
   "display_name": "Python 3",
   "language": "python",
   "name": "python3"
  },
  "language_info": {
   "codemirror_mode": {
    "name": "ipython",
    "version": 3
   },
   "file_extension": ".py",
   "mimetype": "text/x-python",
   "name": "python",
   "nbconvert_exporter": "python",
   "pygments_lexer": "ipython3",
<<<<<<< HEAD
   "version": "3.7.4"
=======
   "version": "3.6.5"
>>>>>>> updates
  }
 },
 "nbformat": 4,
 "nbformat_minor": 2
}
