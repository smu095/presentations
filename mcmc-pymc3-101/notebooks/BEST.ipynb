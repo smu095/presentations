{
 "cells": [
  {
   "cell_type": "markdown",
   "metadata": {
    "colab_type": "text",
    "id": "ZHuqfdc6tg9m"
   },
   "source": [
    "# Bayesian Estimation Supersedes the T-Test"
   ]
  },
  {
   "cell_type": "code",
   "execution_count": null,
   "metadata": {
    "colab": {
     "base_uri": "https://localhost:8080/",
     "height": 34
    },
    "colab_type": "code",
    "executionInfo": {
     "elapsed": 3951,
     "status": "ok",
     "timestamp": 1581495386484,
     "user": {
      "displayName": "solveig masvie",
      "photoUrl": "",
      "userId": "07219002133035293689"
     },
     "user_tz": -60
    },
    "id": "zTpRbhKOtg9o",
    "outputId": "105af8f1-9022-4923-c974-cea7b0e4d168"
   },
   "outputs": [],
   "source": [
    "%matplotlib inline\n",
    "import numpy as np\n",
    "import pymc3 as pm\n",
    "import pandas as pd\n",
    "import matplotlib.pyplot as plt\n",
    "plt.style.use('seaborn-darkgrid')\n",
    "print('Running on PyMC3 v{}'.format(pm.__version__))"
   ]
  },
  {
   "cell_type": "markdown",
   "metadata": {
    "colab_type": "text",
    "id": "EWnGv9MMtg9t"
   },
   "source": [
    "This model replicates the example used in:\n",
    "Kruschke, John. (2012) **Bayesian estimation supersedes the t-test**. *Journal of Experimental Psychology*: General."
   ]
  },
  {
   "cell_type": "markdown",
   "metadata": {
    "colab_type": "text",
    "id": "sshbcHH4tg9u"
   },
   "source": [
    "### The Problem\n",
    "\n",
    "Several statistical inference procedures involve the comparison of two groups. We may be interested in whether one group is larger than another, or simply different from the other. We require a statistical model for this because true differences are usually accompanied by measurement or stochastic noise that prevent us from drawing conclusions simply from differences calculated from the observed data. \n",
    "\n",
    "The *de facto* standard for statistically comparing two (or more) samples is to use a statistical test. This involves expressing a null hypothesis, which typically claims that there is no difference between the groups, and using a chosen test statistic to determine whether the distribution of the observed data is plausible under the hypothesis. This rejection occurs when the calculated test statistic is higher than some pre-specified threshold value.\n",
    "\n",
    "Unfortunately, it is not easy to conduct hypothesis tests correctly, and their results are very easy to misinterpret. Setting up a statistical test involves several subjective choices (*e.g.* statistical test to use, null hypothesis to test, significance level) by the user that are rarely justified based on the problem or decision at hand, but rather, are usually based on traditional choices that are entirely arbitrary (Johnson 1999). The evidence that it provides to the user is indirect, incomplete, and typically overstates the evidence against the null hypothesis (Goodman 1999). \n",
    "\n",
    "A more informative and effective approach for comparing groups is one based on **estimation** rather than **testing**, and is driven by Bayesian probability rather than frequentist. That is, rather than testing whether two groups are different, we instead pursue an estimate of how different they are, which is fundamentally more informative. Moreover, we include an estimate of uncertainty associated with that difference which includes uncertainty due to our lack of knowledge of the model parameters (epistemic uncertainty) and uncertainty due to the inherent stochasticity of the system (aleatory uncertainty)."
   ]
  },
  {
   "cell_type": "markdown",
   "metadata": {
    "colab_type": "text",
    "id": "l0LdKKCatg9v"
   },
   "source": [
    "## Example: Drug trial evaluation\n",
    "\n",
    "To illustrate how this Bayesian estimation approach works in practice, we will use a fictitious example from Kruschke (2012) concerning the evaluation of a clinical trial for drug evaluation. The trial aims to evaluate the efficacy of a \"smart drug\" that is supposed to increase intelligence by comparing IQ scores of individuals in a treatment arm (those receiving the drug) to those in a control arm (those recieving a placebo). There are 47 individuals and 42 individuals in the treatment and control arms, respectively."
   ]
  },
  {
   "cell_type": "code",
   "execution_count": null,
   "metadata": {
    "colab": {
     "base_uri": "https://localhost:8080/",
     "height": 291
    },
    "colab_type": "code",
    "executionInfo": {
     "elapsed": 7320,
     "status": "ok",
     "timestamp": 1581495389885,
     "user": {
      "displayName": "solveig masvie",
      "photoUrl": "",
      "userId": "07219002133035293689"
     },
     "user_tz": -60
    },
    "id": "jhR_NmWAtg9w",
    "outputId": "82314070-96f3-47bf-d110-9d7780b0f7ff"
   },
   "outputs": [],
   "source": [
    "drug = (101,100,102,104,102,97,105,105,98,101,100,123,105,103,100,95,102,106,\n",
    "        109,102,82,102,100,102,102,101,102,102,103,103,97,97,103,101,97,104,\n",
    "        96,103,124,101,101,100,101,101,104,100,101)\n",
    "placebo = (99,101,100,101,102,100,97,101,104,101,102,102,100,105,88,101,100,\n",
    "           104,100,100,100,101,102,103,97,101,101,100,101,99,101,100,100,\n",
    "           101,100,99,101,100,102,99,100,99)\n",
    "\n",
    "y1 = np.array(drug)\n",
    "y2 = np.array(placebo)\n",
    "y = pd.DataFrame(dict(value=np.r_[y1, y2], group=np.r_[['drug']*len(drug), ['placebo']*len(placebo)]))\n",
    "\n",
    "y.hist('value', by='group', figsize=(12, 4));"
   ]
  },
  {
   "cell_type": "markdown",
   "metadata": {
    "colab_type": "text",
    "id": "5Sd-Le-ltg9z"
   },
   "source": [
    "The first step in a Bayesian approach to inference is to specify the full probability model that corresponds to the problem. For this example, Kruschke chooses a Student-t distribution to describe the distributions of the scores in each group. This choice adds robustness to the analysis, as a T distribution is less sensitive to outlier observations, relative to a normal distribution. The three-parameter Student-t distribution allows for the specification of a mean $\\mu$, a precision (inverse-variance) $\\lambda$ and a degrees-of-freedom parameter $\\nu$:\n",
    "\n",
    "$$f(x|\\mu,\\lambda,\\nu) = \\frac{\\Gamma(\\frac{\\nu + 1}{2})}{\\Gamma(\\frac{\\nu}{2})} \\left(\\frac{\\lambda}{\\pi\\nu}\\right)^{\\frac{1}{2}} \\left[1+\\frac{\\lambda(x-\\mu)^2}{\\nu}\\right]^{-\\frac{\\nu+1}{2}}$$\n",
    "           \n",
    "the degrees-of-freedom parameter essentially specifies the \"normality\" of the data, since larger values of $\\nu$ make the distribution converge to a normal distribution, while small values (close to zero) result in heavier tails.\n"
   ]
  },
  {
   "cell_type": "code",
   "execution_count": null,
   "metadata": {
    "colab": {
     "base_uri": "https://localhost:8080/",
     "height": 279
    },
    "colab_type": "code",
    "executionInfo": {
     "elapsed": 7779,
     "status": "ok",
     "timestamp": 1581495390364,
     "user": {
      "displayName": "solveig masvie",
      "photoUrl": "",
      "userId": "07219002133035293689"
     },
     "user_tz": -60
    },
    "id": "n6Qe9AcwtxIY",
    "outputId": "995fb4a3-aa52-47fb-a30b-2275a8d8f646"
   },
   "outputs": [],
   "source": [
    "from scipy.stats import t\n",
    "x = np.linspace(80, 120, 401)\n",
    "loc = 100\n",
    "scale = 3\n",
    "\n",
    "df = 0.1\n",
    "plt.plot(x, t.pdf(x, df, loc, scale), label='degrees of freedom = 0.1')\n",
    "df = 1\n",
    "plt.plot(x, t.pdf(x, df,loc, scale), label='degrees of freedom = 1')\n",
    "df = 10\n",
    "plt.plot(x, t.pdf(x, df, loc, scale), label='degrees of freedom = 10')\n",
    "plt.legend()"
   ]
  },
  {
   "cell_type": "markdown",
   "metadata": {
    "colab_type": "text",
    "id": "l5tisOMOvjxx"
   },
   "source": [
    "Thus, the likelihood functions of our model are specified as follows:\n",
    "\n",
    "$$y^{(treat)}_i \\sim T(\\nu, \\mu_1, \\sigma_1)$$\n",
    "\n",
    "$$y^{(placebo)}_i \\sim T(\\nu, \\mu_2, \\sigma_2)$$\n",
    "\n",
    "As a simplifying assumption, we will assume that the degree of normality $\\nu$ is the same for both groups. We will, of course, have separate parameters for the means $\\mu_k, k=1,2$ and standard deviations $\\sigma_k$.\n",
    "\n",
    "Since the means are real-valued, we will apply normal priors on them, and arbitrarily set the hyperparameters to the pooled empirical mean of the data and twice the pooled empirical standard deviation, which applies very diffuse information to these quantities (and importantly, does not favor one or the other *a priori*).\n",
    "\n",
    "$$\\mu_k \\sim N(\\bar{x}, 2s)$$"
   ]
  },
  {
   "cell_type": "code",
   "execution_count": null,
   "metadata": {
    "colab": {},
    "colab_type": "code",
    "id": "O_zZTmL2tg90"
   },
   "outputs": [],
   "source": [
    "μ_m = y.value.mean()\n",
    "μ_s = y.value.std() * 2\n",
    "\n",
    "\n",
    "# initialize to the same distribution\n",
    "with pm.Model() as model:\n",
    "    group1_mean = pm.Normal('group1_mean', mu=μ_m, sd=μ_s)\n",
    "    group2_mean = pm.Normal('group2_mean', mu=μ_m, sd=μ_s)"
   ]
  },
  {
   "cell_type": "code",
   "execution_count": null,
   "metadata": {
    "colab": {
     "base_uri": "https://localhost:8080/",
     "height": 279
    },
    "colab_type": "code",
    "executionInfo": {
     "elapsed": 8726,
     "status": "ok",
     "timestamp": 1581495391347,
     "user": {
      "displayName": "solveig masvie",
      "photoUrl": "",
      "userId": "07219002133035293689"
     },
     "user_tz": -60
    },
    "id": "MWTBijISxaqi",
    "outputId": "da0e8072-e6ce-4b1b-aaf1-8e356a9d230c"
   },
   "outputs": [],
   "source": [
    "from scipy.stats import norm\n",
    "\n",
    "plt.plot(x, norm.pdf(x, μ_m, μ_s))"
   ]
  },
  {
   "cell_type": "markdown",
   "metadata": {
    "colab_type": "text",
    "id": "XPLSiByJtg93"
   },
   "source": [
    "The group standard deviations will be given a uniform prior over a plausible range of values for the variability of the outcome variable, IQ.\n",
    "\n",
    "In Kruschke's original model, he uses a very wide uniform prior for the group standard deviations, from the pooled empirical standard deviation divided by 1000 to the pooled standard deviation multiplied by 1000. This is a poor choice of prior, because very basic prior knowledge about measures of human coginition dictate that the variation cannot ever be as high as this upper bound. IQ is a standardized measure, and hence this constrains how variable a given population's IQ values can be. When you place such a wide uniform prior on these values, you are essentially giving a lot of prior weight on inadmissable values. In this example, there is little practical difference, but in general it is best to apply as much prior information that you have available to the parameterization of prior distributions. \n",
    "\n",
    "We will instead set the group standard deviations to have a $\\text{Uniform}(1,10)$ prior:"
   ]
  },
  {
   "cell_type": "code",
   "execution_count": null,
   "metadata": {
    "colab": {},
    "colab_type": "code",
    "id": "0eGr86awtg94"
   },
   "outputs": [],
   "source": [
    "σ_low = 1\n",
    "σ_high = 10\n",
    "\n",
    "with model:\n",
    "    group1_std = pm.Uniform('group1_std', lower=σ_low, upper=σ_high)\n",
    "    group2_std = pm.Uniform('group2_std', lower=σ_low, upper=σ_high)"
   ]
  },
  {
   "cell_type": "markdown",
   "metadata": {
    "colab_type": "text",
    "id": "vfbHw6kZtg98"
   },
   "source": [
    "We follow Kruschke by making the prior for $\\nu$ exponentially distributed with a mean of 30; this allocates high prior probability over the regions of the parameter that describe the range from normal to heavy-tailed data under the Student-T distribution."
   ]
  },
  {
   "cell_type": "code",
   "execution_count": null,
   "metadata": {
    "colab": {
     "base_uri": "https://localhost:8080/",
     "height": 266
    },
    "colab_type": "code",
    "executionInfo": {
     "elapsed": 12410,
     "status": "ok",
     "timestamp": 1581495395065,
     "user": {
      "displayName": "solveig masvie",
      "photoUrl": "",
      "userId": "07219002133035293689"
     },
     "user_tz": -60
    },
    "id": "fSY-KoTItg99",
    "outputId": "e86bf8f1-ce30-4f36-bccf-4be41c41b4cb"
   },
   "outputs": [],
   "source": [
    "with model:\n",
    "    ν = pm.Exponential('ν_minus_one', 1/29.) + 1\n",
    "\n",
    "pm.kdeplot(np.random.exponential(30, size=10000), fill_kwargs={'alpha': 0.5});"
   ]
  },
  {
   "cell_type": "markdown",
   "metadata": {
    "colab_type": "text",
    "id": "zy3gT7Kstg-A"
   },
   "source": [
    "Since PyMC3 parameterizes the Student-T in terms of precision, rather than standard deviation, we must transform the standard deviations before specifying our likelihoods."
   ]
  },
  {
   "cell_type": "code",
   "execution_count": null,
   "metadata": {
    "colab": {},
    "colab_type": "code",
    "id": "UCzcyoCutg-B"
   },
   "outputs": [],
   "source": [
    "with model:\n",
    "    λ1 = group1_std**-2\n",
    "    λ2 = group2_std**-2\n",
    "\n",
    "    # Likelihoods\n",
    "    group1 = pm.StudentT('drug', nu=ν, mu=group1_mean, lam=λ1, observed=y1)\n",
    "    group2 = pm.StudentT('placebo', nu=ν, mu=group2_mean, lam=λ2, observed=y2)"
   ]
  },
  {
   "cell_type": "markdown",
   "metadata": {
    "colab_type": "text",
    "id": "tUmfL1B3tg-G"
   },
   "source": [
    "Having fully specified our probabilistic model, we can turn our attention to calculating the comparisons of interest in order to evaluate the effect of the drug. To this end, we can specify deterministic nodes in our model for the difference between the group means and the difference between the group standard deviations. Wrapping them in named `Deterministic` objects signals to PyMC that we wish to record the sampled values as part of the output.\n",
    "\n",
    "As a joint measure of the groups, we will also estimate the \"effect size\", which is the difference in means scaled by the pooled estimates of standard deviation. This quantity can be harder to interpret, since it is no longer in the same units as our data, but the quantity is a function of all four estimated parameters."
   ]
  },
  {
   "cell_type": "code",
   "execution_count": null,
   "metadata": {
    "colab": {},
    "colab_type": "code",
    "id": "_whxHBp9tg-H"
   },
   "outputs": [],
   "source": [
    "with model:\n",
    "    diff_of_means = pm.Deterministic('difference of means', group1_mean - group2_mean)\n",
    "    diff_of_stds = pm.Deterministic('difference of stds', group1_std - group2_std)\n",
    "    effect_size = pm.Deterministic('effect size', \n",
    "                                   diff_of_means / np.sqrt((group1_std**2 + group2_std**2) / 2))\n"
   ]
  },
  {
   "cell_type": "markdown",
   "metadata": {
    "colab_type": "text",
    "id": "fhFfU6Z0tg-K"
   },
   "source": [
    "Now, we can fit the model and evaluate its output."
   ]
  },
  {
   "cell_type": "code",
   "execution_count": null,
   "metadata": {
    "colab": {
     "base_uri": "https://localhost:8080/",
     "height": 119
    },
    "colab_type": "code",
    "executionInfo": {
     "elapsed": 21425,
     "status": "ok",
     "timestamp": 1581496089495,
     "user": {
      "displayName": "solveig masvie",
      "photoUrl": "",
      "userId": "07219002133035293689"
     },
     "user_tz": -60
    },
    "id": "uejxX1oxtg-L",
    "outputId": "5d680ee9-5243-4baf-90e5-44dd6d56183c"
   },
   "outputs": [],
   "source": [
    "with model:\n",
    "  trace = pm.sample(3000, chains=4)"
   ]
  },
  {
   "cell_type": "markdown",
   "metadata": {
    "colab_type": "text",
    "id": "zHlqoIogtg-O"
   },
   "source": [
    "We can plot the stochastic parameters of the model. PyMC's `plot_posterior` function replicates the informative histograms portrayed in Kruschke (2012). These summarize the posterior distributions of the parameters, and present a 95% credible interval and the posterior mean. The plots below are constructed with the final 1000 samples from each of the 2 chains, pooled together."
   ]
  },
  {
   "cell_type": "code",
   "execution_count": null,
   "metadata": {
    "colab": {
     "base_uri": "https://localhost:8080/",
     "height": 687
    },
    "colab_type": "code",
    "executionInfo": {
     "elapsed": 109764,
     "status": "ok",
     "timestamp": 1581495492478,
     "user": {
      "displayName": "solveig masvie",
      "photoUrl": "",
      "userId": "07219002133035293689"
     },
     "user_tz": -60
    },
    "id": "05lklGsmtg-P",
    "outputId": "6ae463ad-3517-4cfd-cee7-4a1eba6ae5f7"
   },
   "outputs": [],
   "source": [
    "pm.plot_posterior(trace, var_names=['group1_mean','group2_mean', 'group1_std', 'group2_std', 'ν_minus_one'],\n",
    "                  color='#87ceeb');"
   ]
  },
  {
   "cell_type": "markdown",
   "metadata": {
    "colab_type": "text",
    "id": "BIXUyej2tg-S"
   },
   "source": [
    "Looking at the group differences below, we can conclude that there are meaningful differences between the two groups for all three measures. For these comparisons, it is useful to use zero as a reference value (`ref_val`); providing this reference value yields cumulative probabilities for the posterior distribution on either side of the value. Thus, for the difference of means, at least 97% of the posterior probability are greater than zero, which suggests the group means are credibly different. The effect size and differences in standard deviation are similarly positive.\n",
    "\n",
    "These estimates suggest that the \"smart drug\" increased both the expected scores, but also the variability in scores across the sample. So, this does not rule out the possibility that some recipients may be adversely affected by the drug at the same time others benefit."
   ]
  },
  {
   "cell_type": "code",
   "execution_count": null,
   "metadata": {
    "colab": {
     "base_uri": "https://localhost:8080/",
     "height": 356
    },
    "colab_type": "code",
    "executionInfo": {
     "elapsed": 110234,
     "status": "ok",
     "timestamp": 1581495492961,
     "user": {
      "displayName": "solveig masvie",
      "photoUrl": "",
      "userId": "07219002133035293689"
     },
     "user_tz": -60
    },
    "id": "jX7Lcwzktg-S",
    "outputId": "d88be884-7fb9-474c-e51a-ef4fd2f5e018"
   },
   "outputs": [],
   "source": [
    "pm.plot_posterior(trace, var_names=['difference of means','difference of stds', 'effect size'],\n",
    "                  ref_val=0,\n",
    "                  color='#87ceeb');"
   ]
  },
  {
   "cell_type": "markdown",
   "metadata": {
    "colab_type": "text",
    "id": "XBly9m4dtg-V"
   },
   "source": [
    "When `forestplot` is called on a trace with more than one chain, it also plots the potential scale reduction parameter, which is used to reveal evidence for lack of convergence; values near one, as we have here, suggest that the model has converged."
   ]
  },
  {
   "cell_type": "code",
   "execution_count": null,
   "metadata": {
    "colab": {
     "base_uri": "https://localhost:8080/",
     "height": 457
    },
    "colab_type": "code",
    "executionInfo": {
     "elapsed": 111265,
     "status": "ok",
     "timestamp": 1581495494008,
     "user": {
      "displayName": "solveig masvie",
      "photoUrl": "",
      "userId": "07219002133035293689"
     },
     "user_tz": -60
    },
    "id": "PSCfboaXtg-V",
    "outputId": "4df889b7-a616-4c9c-a968-05534ed69e2a"
   },
   "outputs": [],
   "source": [
    "pm.forestplot(trace, var_names=['group1_mean',\n",
    "                                'group2_mean']);"
   ]
  },
  {
   "cell_type": "code",
   "execution_count": null,
   "metadata": {
    "colab": {
     "base_uri": "https://localhost:8080/",
     "height": 565
    },
    "colab_type": "code",
    "executionInfo": {
     "elapsed": 112121,
     "status": "ok",
     "timestamp": 1581495494879,
     "user": {
      "displayName": "solveig masvie",
      "photoUrl": "",
      "userId": "07219002133035293689"
     },
     "user_tz": -60
    },
    "id": "raTH0x1Ftg-Z",
    "outputId": "a06d333a-141a-4848-e0cb-9cac5e28b19b"
   },
   "outputs": [],
   "source": [
    "pm.forestplot(trace, var_names=['group1_std',\n",
    "                               'group2_std',\n",
    "                               'ν_minus_one']);"
   ]
  },
  {
   "cell_type": "code",
   "execution_count": null,
   "metadata": {
    "colab": {
     "base_uri": "https://localhost:8080/",
     "height": 176
    },
    "colab_type": "code",
    "executionInfo": {
     "elapsed": 112108,
     "status": "ok",
     "timestamp": 1581495494880,
     "user": {
      "displayName": "solveig masvie",
      "photoUrl": "",
      "userId": "07219002133035293689"
     },
     "user_tz": -60
    },
    "id": "vOkjP1aKtg-b",
    "outputId": "2c59c8df-1767-4304-9ae1-d0de0b41bacc"
   },
   "outputs": [],
   "source": [
    "pm.summary(trace, varnames=['difference of means', 'difference of stds', 'effect size'])"
   ]
  },
  {
   "cell_type": "code",
   "execution_count": null,
   "metadata": {
    "colab": {
     "base_uri": "https://localhost:8080/",
     "height": 1000
    },
    "colab_type": "code",
    "executionInfo": {
     "elapsed": 117314,
     "status": "ok",
     "timestamp": 1581495500096,
     "user": {
      "displayName": "solveig masvie",
      "photoUrl": "",
      "userId": "07219002133035293689"
     },
     "user_tz": -60
    },
    "id": "WsfNMWT23BrJ",
    "outputId": "a5d2bc38-dcee-4c51-cf37-bb6558a9650a"
   },
   "outputs": [],
   "source": [
    "pm.traceplot(trace)"
   ]
  },
  {
   "cell_type": "markdown",
   "metadata": {
    "colab_type": "text",
    "id": "fGg-LdRRtg-e"
   },
   "source": [
    "## References\n",
    "\n",
    "1.\tGoodman SN. Toward evidence-based medical statistics. 1: The P value fallacy. Annals of Internal Medicine. 1999;130(12):995-1004. doi:10.7326/0003-4819-130-12-199906150-00008.\n",
    "2.\tJohnson D. The insignificance of statistical significance testing. Journal of Wildlife Management. 1999;63(3):763-772.\n",
    "3.\tKruschke JK. Bayesian estimation supersedes the t test. J Exp Psychol Gen. 2013;142(2):573-603. doi:10.1037/a0029146."
   ]
  },
  {
   "cell_type": "markdown",
   "metadata": {
    "colab_type": "text",
    "id": "ccbCIyBltg-f"
   },
   "source": [
    "The original pymc2 implementation was written by Andrew Straw and can be found here: https://github.com/strawlab/best\n",
    "\n",
    "Ported to PyMC3 by [Thomas Wiecki](https://twitter.com/twiecki) (c) 2015, updated by Chris Fonnesbeck."
   ]
  }
 ],
 "metadata": {
  "anaconda-cloud": {},
  "colab": {
   "collapsed_sections": [],
   "name": "BEST.ipynb",
   "provenance": []
  },
  "kernelspec": {
   "display_name": "Python 3",
   "language": "python",
   "name": "python3"
  },
  "language_info": {
   "codemirror_mode": {
    "name": "ipython",
    "version": 3
   },
   "file_extension": ".py",
   "mimetype": "text/x-python",
   "name": "python",
   "nbconvert_exporter": "python",
   "pygments_lexer": "ipython3",
   "version": "3.6.5"
  },
  "latex_envs": {
   "bibliofile": "biblio.bib",
   "cite_by": "apalike",
   "current_citInitial": 1,
   "eqLabelWithNumbers": true,
   "eqNumInitial": 0
  }
 },
 "nbformat": 4,
 "nbformat_minor": 1
}
