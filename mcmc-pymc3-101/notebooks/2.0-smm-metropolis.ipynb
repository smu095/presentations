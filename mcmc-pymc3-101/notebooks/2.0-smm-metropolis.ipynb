{
 "cells": [
  {
   "cell_type": "markdown",
   "metadata": {},
   "source": [
    "# Setup"
   ]
  },
  {
   "cell_type": "code",
   "execution_count": null,
   "metadata": {},
   "outputs": [],
   "source": [
    "import numpy as np\n",
    "import matplotlib.pyplot as plt\n",
    "import scipy.stats as st"
   ]
  },
  {
   "cell_type": "markdown",
   "metadata": {},
   "source": [
    "# Example of Metropolis implementation"
   ]
  },
  {
   "cell_type": "code",
   "execution_count": null,
   "metadata": {},
   "outputs": [],
   "source": [
    "# N = 10 observations from Normal(loc=5, scale=2)\n",
    "data = 5 + np.sqrt(2) * np.random.randn(10)\n",
    "\n",
    "def loglik(theta, x):\n",
    "    \"\"\"Log-likelihood of Normal distribution.\"\"\"\n",
    "    return np.sum(st.norm(loc=theta, scale=2).logpdf(x))\n",
    "\n",
    "# Initial value for theta\n",
    "theta = 0\n",
    "num_samples = 10**4\n",
    "samples = np.zeros(num_samples)\n",
    "\n",
    "# Metropolis algorithm\n",
    "for i in range(num_samples):\n",
    "    # Draw proposal\n",
    "    theta_star = theta + np.random.randn(1)\n",
    "\n",
    "    # Accept/reject\n",
    "    u = np.random.rand()\n",
    "    if u < np.exp(loglik(theta_star, data) - loglik(theta, data)):\n",
    "        theta = theta_star\n",
    "    samples[i] = theta"
   ]
  },
  {
   "cell_type": "code",
   "execution_count": null,
   "metadata": {},
   "outputs": [],
   "source": [
    "# Plotting posterior distribution\n",
    "plt.figure(figsize=(10, 6))\n",
    "plt.hist(samples[1000:], bins=20, label=f\"Posterior mean: {round(samples[1000:].mean(), 2)}\")\n",
    "plt.legend()\n",
    "plt.show()"
   ]
  },
  {
   "cell_type": "code",
   "execution_count": null,
   "metadata": {},
   "outputs": [],
   "source": []
  }
 ],
 "metadata": {
  "kernelspec": {
   "display_name": "Python 3",
   "language": "python",
   "name": "python3"
  },
  "language_info": {
   "codemirror_mode": {
    "name": "ipython",
    "version": 3
   },
   "file_extension": ".py",
   "mimetype": "text/x-python",
   "name": "python",
   "nbconvert_exporter": "python",
   "pygments_lexer": "ipython3",
   "version": "3.6.5"
  }
 },
 "nbformat": 4,
 "nbformat_minor": 2
}
