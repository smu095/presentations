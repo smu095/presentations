{
 "cells": [
  {
   "cell_type": "markdown",
   "metadata": {},
   "source": [
    "# Setup"
   ]
  },
  {
   "cell_type": "code",
<<<<<<< HEAD
   "execution_count": 1,
=======
   "execution_count": null,
>>>>>>> updates
   "metadata": {},
   "outputs": [],
   "source": [
    "import numpy as np\n",
    "import matplotlib.pyplot as plt\n",
    "import scipy.stats as st"
   ]
  },
  {
   "cell_type": "markdown",
   "metadata": {},
   "source": [
<<<<<<< HEAD
    "# Examples of Metropolis implementation"
   ]
  },
  {
   "cell_type": "markdown",
   "metadata": {},
   "source": [
    "## Normal distribution with unknown mean"
=======
    "# Example of Metropolis implementation"
>>>>>>> updates
   ]
  },
  {
   "cell_type": "code",
   "execution_count": null,
   "metadata": {},
   "outputs": [],
   "source": [
    "# N = 10 observations from Normal(loc=5, scale=2)\n",
    "data = 5 + np.sqrt(2) * np.random.randn(10)\n",
    "\n",
    "def loglik(theta, x):\n",
    "    \"\"\"Log-likelihood of Normal distribution.\"\"\"\n",
    "    return np.sum(st.norm(loc=theta, scale=2).logpdf(x))\n",
    "\n",
    "# Initial value for theta\n",
    "theta = 0\n",
    "num_samples = 10**4\n",
    "samples = np.zeros(num_samples)\n",
    "\n",
    "# Metropolis algorithm\n",
    "for i in range(num_samples):\n",
    "    # Draw proposal\n",
    "    theta_star = theta + np.random.randn(1)\n",
    "\n",
    "    # Accept/reject\n",
    "    u = np.random.rand()\n",
    "    if u < np.exp(loglik(theta_star, data) - loglik(theta, data)):\n",
    "        theta = theta_star\n",
    "    samples[i] = theta"
   ]
  },
  {
   "cell_type": "code",
   "execution_count": null,
   "metadata": {},
   "outputs": [],
   "source": [
    "# Plotting posterior distribution\n",
    "plt.figure(figsize=(10, 6))\n",
    "plt.hist(samples[1000:], bins=20, label=f\"Posterior mean: {round(samples[1000:].mean(), 2)}\")\n",
    "plt.legend()\n",
<<<<<<< HEAD
    "plt.savefig(\"metropolis.png\", bbox_inches=\"tight\", dpi=300)\n",
    "plt.show()"
   ]
  },
  {
   "cell_type": "markdown",
   "metadata": {},
   "source": [
    "## Garden of Forking Data example"
   ]
  },
  {
   "cell_type": "code",
   "execution_count": 21,
   "metadata": {},
   "outputs": [],
   "source": [
    "# Marbles data\n",
    "data = np.array([1, 0, 1])\n",
    "\n",
    "def log_p(theta, x):\n",
    "    N = len(x)\n",
    "    k = np.sum(x)\n",
    "    logprior = np.repeat(0.2, len(x))\n",
    "    loglik = k*np.log(theta + 10e-8) + (N - k)*np.log(1 - theta + 10e-8)\n",
    "    return np.sum(logprior + loglik)\n",
    "\n",
    "# Initial value for theta\n",
    "theta = 0.5\n",
    "num_samples = 10**4\n",
    "samples = np.zeros(num_samples)\n",
    "\n",
    "proposals = []\n",
    "\n",
    "# Metropolis algorithm\n",
    "for i in range(num_samples):\n",
    "    # Draw proposal\n",
    "    theta_star = theta + np.sqrt(0.05)*np.random.randn(1)\n",
    "    \n",
    "    # Dealing with potential values of theta less than 0 and greater than 1\n",
    "    theta_star = max(0, min(theta_star, 1))\n",
    "    \n",
    "    # Accept/reject\n",
    "    u = np.random.rand()\n",
    "    if u < np.exp(log_p(theta_star, data) - log_p(theta, data)):\n",
    "        theta = theta_star\n",
    "    samples[i] = theta"
   ]
  },
  {
   "cell_type": "code",
   "execution_count": 22,
   "metadata": {},
   "outputs": [
    {
     "data": {
      "image/png": "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\n",
      "text/plain": [
       "<Figure size 720x432 with 1 Axes>"
      ]
     },
     "metadata": {
      "needs_background": "light"
     },
     "output_type": "display_data"
    }
   ],
   "source": [
    "# Plotting posterior distribution\n",
    "plt.figure(figsize=(10, 6))\n",
    "plt.hist(samples[1000:], bins=20, label=f\"Posterior mean: {round(samples[1000:].mean(), 2)}\")\n",
    "plt.legend()\n",
=======
>>>>>>> updates
    "plt.show()"
   ]
  },
  {
   "cell_type": "code",
   "execution_count": null,
   "metadata": {},
   "outputs": [],
   "source": []
  }
 ],
 "metadata": {
  "kernelspec": {
   "display_name": "Python 3",
   "language": "python",
   "name": "python3"
  },
  "language_info": {
   "codemirror_mode": {
    "name": "ipython",
    "version": 3
   },
   "file_extension": ".py",
   "mimetype": "text/x-python",
   "name": "python",
   "nbconvert_exporter": "python",
   "pygments_lexer": "ipython3",
<<<<<<< HEAD
   "version": "3.7.4"
=======
   "version": "3.6.5"
>>>>>>> updates
  }
 },
 "nbformat": 4,
 "nbformat_minor": 2
}
