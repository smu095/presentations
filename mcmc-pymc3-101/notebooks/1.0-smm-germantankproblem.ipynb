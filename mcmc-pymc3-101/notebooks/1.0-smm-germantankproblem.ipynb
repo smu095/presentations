{
 "cells": [
  {
   "cell_type": "markdown",
   "metadata": {},
   "source": [
    "# Setup"
   ]
  },
  {
   "cell_type": "code",
   "execution_count": null,
   "metadata": {},
   "outputs": [],
   "source": [
    "import arviz as az\n",
    "import numpy as np\n",
    "import pandas as pd\n",
    "import pymc3 as pm\n",
    "import matplotlib.pyplot as plt\n",
    "import scipy.stats as st\n",
    "import seaborn as sns\n",
    "\n",
    "from typing import List"
   ]
  },
  {
   "cell_type": "markdown",
   "metadata": {},
   "source": [
    "# Problem"
   ]
  },
  {
   "cell_type": "markdown",
   "metadata": {},
   "source": [
    "Describe problem here. \n",
    "\n",
    "See e.g.:\n",
    "\n",
    "* [Wiki](https://en.wikipedia.org/wiki/German_tank_problem)\n",
    "* [Example 1](https://www.isaacslavitt.com/2015/12/19/german-tank-problem-with-pymc-and-pystan/)\n",
    "* [Example 2](http://mcleonard.github.io/sampyl/examples/german_tank_problem.html)"
   ]
  },
  {
   "cell_type": "markdown",
   "metadata": {},
   "source": [
    "## Generating data"
   ]
  },
  {
   "cell_type": "code",
   "execution_count": null,
   "metadata": {},
   "outputs": [],
   "source": [
    "# Defining data\n",
    "def generate_data(true_N: int, size: int, save: bool=True):\n",
    "    \"\"\"Generate CSV file containing tank serial numbers\"\"\"\n",
    "    observations = np.random.randint(low=1, high=true_N, size=size)\n",
    "    data = pd.DataFrame({\"serial_no\": observations})\n",
    "    if save:\n",
    "        data.to_csv(\"german_tanks.csv\", index=False)\n",
    "    return data\n",
    "\n",
    "# Generate data\n",
    "captured_tanks = 4\n",
    "german_records = 369\n",
    "data = generate_data(true_N=german_records, size=captured_tanks)\n",
    "\n",
    "data"
   ]
  },
  {
   "cell_type": "markdown",
   "metadata": {},
   "source": [
    "## Sampling from the posterior"
   ]
  },
  {
   "cell_type": "code",
   "execution_count": null,
   "metadata": {},
   "outputs": [],
   "source": [
    "with pm.Model() as model:\n",
    "    # Defining prior distribution\n",
    "    N = pm.DiscreteUniform(\"num_tanks\", lower=data[\"serial_no\"].max(), upper=10000)\n",
    "    # Defining likelihood\n",
    "    likelihood = pm.DiscreteUniform(\"observed_sn\", lower=1, upper=N, observed=data[\"serial_no\"])\n",
    "    \n",
    "    # Defining MCMC algorithm (NOTE: Discrete data --> Metropolis)\n",
    "    step = pm.Metropolis()\n",
    "    # Defining initial values\n",
    "    start = {\"num_tanks\": data[\"serial_no\"].max()}\n",
    "    \n",
    "    # Sampling\n",
    "    trace = pm.sample(draws=100000, step=step, start=start)\n",
    "    # Discarding the burn-in period\n",
    "    burned_trace = trace[10000:]"
   ]
  },
  {
   "cell_type": "markdown",
   "metadata": {},
   "source": [
    "## Checking convergence"
   ]
  },
  {
   "cell_type": "code",
   "execution_count": null,
   "metadata": {},
   "outputs": [],
   "source": [
    "# Plotting trace\n",
    "az.plot_trace(burned_trace)\n",
    "plt.show()"
   ]
  },
  {
   "cell_type": "markdown",
   "metadata": {},
   "source": [
    "According to our model, the expected number of tanks is approximately 369."
   ]
  },
  {
   "cell_type": "code",
   "execution_count": null,
   "metadata": {},
   "outputs": [],
   "source": [
    "# Plotting posterior distribution\n",
    "az.plot_posterior(burned_trace)\n",
    "plt.show()"
   ]
  },
  {
   "cell_type": "markdown",
   "metadata": {},
   "source": [
    "# Printing summary of posterior distribution"
   ]
  },
  {
   "cell_type": "code",
   "execution_count": null,
   "metadata": {},
   "outputs": [],
   "source": [
    "az.summary(burned_trace)"
   ]
  },
  {
   "cell_type": "code",
   "execution_count": null,
   "metadata": {},
   "outputs": [],
   "source": [
    "np.median(burned_trace[\"num_tanks\"])"
   ]
  },
  {
   "cell_type": "markdown",
   "metadata": {},
   "source": [
    "# Kladd av custom loss, etc."
   ]
  },
  {
   "cell_type": "code",
   "execution_count": null,
   "metadata": {},
   "outputs": [],
   "source": [
    "def loss(guess, sample, risk=500):\n",
    "    loss = np.zeros_like(sample)\n",
    "    idx = guess < sample\n",
    "    loss[idx] = risk * (guess - sample[idx])**2\n",
    "    loss[~idx] = risk * np.abs(guess - sample[~idx])\n",
    "    return loss"
   ]
  },
  {
   "cell_type": "code",
   "execution_count": null,
   "metadata": {},
   "outputs": [],
   "source": [
    "guesses = np.array([100*i for i in range(11)])"
   ]
  },
  {
   "cell_type": "code",
   "execution_count": null,
   "metadata": {},
   "outputs": [],
   "source": [
    "results = [loss(g, burned_trace[\"num_tanks\"]).mean() for g in guesses]\n",
    "plt.plot(guesses, results)\n",
    "plt.show()"
   ]
  },
  {
   "cell_type": "code",
   "execution_count": null,
   "metadata": {},
   "outputs": [],
   "source": [
    "def deaths(samples):\n",
    "    return 5*np.log(samples)"
   ]
  },
  {
   "cell_type": "code",
   "execution_count": null,
   "metadata": {},
   "outputs": [],
   "source": [
    "x = deaths(burned_trace[\"num_tanks\"])"
   ]
  },
  {
   "cell_type": "code",
   "execution_count": null,
   "metadata": {},
   "outputs": [],
   "source": [
    "plt.hist(x, density=True)"
   ]
  },
  {
   "cell_type": "code",
   "execution_count": null,
   "metadata": {},
   "outputs": [],
   "source": [
    "((x <= 30) & (x >= 20)).mean()"
   ]
  },
  {
   "cell_type": "code",
   "execution_count": null,
   "metadata": {},
   "outputs": [],
   "source": []
  }
 ],
 "metadata": {
  "kernelspec": {
   "display_name": "Python 3",
   "language": "python",
   "name": "python3"
  },
  "language_info": {
   "codemirror_mode": {
    "name": "ipython",
    "version": 3
   },
   "file_extension": ".py",
   "mimetype": "text/x-python",
   "name": "python",
   "nbconvert_exporter": "python",
   "pygments_lexer": "ipython3",
   "version": "3.7.4"
  }
 },
 "nbformat": 4,
 "nbformat_minor": 2
}
