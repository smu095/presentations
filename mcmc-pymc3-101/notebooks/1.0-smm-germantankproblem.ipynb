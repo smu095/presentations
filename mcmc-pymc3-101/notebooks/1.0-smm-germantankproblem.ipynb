{
 "cells": [
  {
   "cell_type": "markdown",
   "metadata": {},
   "source": [
    "# Setup"
   ]
  },
  {
   "cell_type": "code",
   "execution_count": 23,
   "metadata": {},
   "outputs": [],
   "source": [
    "import arviz as az\n",
    "import numpy as np\n",
    "import pandas as pd\n",
    "import pymc3 as pm\n",
    "import matplotlib.pyplot as plt\n",
    "from typing import List"
   ]
  },
  {
   "cell_type": "markdown",
   "metadata": {},
   "source": [
    "# Problem"
   ]
  },
  {
   "cell_type": "markdown",
   "metadata": {},
   "source": [
    "Describe problem here. \n",
    "\n",
    "See e.g.:\n",
    "\n",
    "* [Wiki](https://en.wikipedia.org/wiki/German_tank_problem)\n",
    "* [Example 1](https://www.isaacslavitt.com/2015/12/19/german-tank-problem-with-pymc-and-pystan/)\n",
    "* [Example 2](http://mcleonard.github.io/sampyl/examples/german_tank_problem.html)"
   ]
  },
  {
   "cell_type": "markdown",
   "metadata": {},
   "source": [
    "## Generating data"
   ]
  },
  {
   "cell_type": "code",
   "execution_count": 41,
   "metadata": {},
   "outputs": [
    {
     "data": {
      "text/html": [
       "<div>\n",
       "<style scoped>\n",
       "    .dataframe tbody tr th:only-of-type {\n",
       "        vertical-align: middle;\n",
       "    }\n",
       "\n",
       "    .dataframe tbody tr th {\n",
       "        vertical-align: top;\n",
       "    }\n",
       "\n",
       "    .dataframe thead th {\n",
       "        text-align: right;\n",
       "    }\n",
       "</style>\n",
       "<table border=\"1\" class=\"dataframe\">\n",
       "  <thead>\n",
       "    <tr style=\"text-align: right;\">\n",
       "      <th></th>\n",
       "      <th>serial_no</th>\n",
       "    </tr>\n",
       "  </thead>\n",
       "  <tbody>\n",
       "    <tr>\n",
       "      <th>0</th>\n",
       "      <td>240</td>\n",
       "    </tr>\n",
       "    <tr>\n",
       "      <th>1</th>\n",
       "      <td>7</td>\n",
       "    </tr>\n",
       "    <tr>\n",
       "      <th>2</th>\n",
       "      <td>66</td>\n",
       "    </tr>\n",
       "    <tr>\n",
       "      <th>3</th>\n",
       "      <td>122</td>\n",
       "    </tr>\n",
       "    <tr>\n",
       "      <th>4</th>\n",
       "      <td>96</td>\n",
       "    </tr>\n",
       "    <tr>\n",
       "      <th>5</th>\n",
       "      <td>352</td>\n",
       "    </tr>\n",
       "    <tr>\n",
       "      <th>6</th>\n",
       "      <td>87</td>\n",
       "    </tr>\n",
       "  </tbody>\n",
       "</table>\n",
       "</div>"
      ],
      "text/plain": [
       "   serial_no\n",
       "0        240\n",
       "1          7\n",
       "2         66\n",
       "3        122\n",
       "4         96\n",
       "5        352\n",
       "6         87"
      ]
     },
     "execution_count": 41,
     "metadata": {},
     "output_type": "execute_result"
    }
   ],
   "source": [
    "# Defining data\n",
    "def generate_data(true_N: int, size: int, save: bool=True):\n",
    "    \"\"\"Generate CSV file containing tank serial numbers\"\"\"\n",
    "    observations = np.random.randint(low=1, high=true_N, size=size)\n",
    "    data = pd.DataFrame({\"serial_no\": observations})\n",
    "    if save:\n",
    "        data.to_csv(\"german_tanks.csv\", index=False)\n",
    "    return data\n",
    "\n",
    "# Generate data\n",
    "captured_tanks = 7\n",
    "german_records = 369\n",
    "data = generate_data(true_N=german_records, size=captured_tanks)\n",
    "\n",
    "data"
   ]
  },
  {
   "cell_type": "markdown",
   "metadata": {},
   "source": [
    "## Sampling from the posterior"
   ]
  },
  {
   "cell_type": "code",
   "execution_count": 46,
   "metadata": {},
   "outputs": [
    {
     "name": "stderr",
     "output_type": "stream",
     "text": [
      "Multiprocess sampling (4 chains in 4 jobs)\n",
      "Metropolis: [num_tanks]\n",
      "Sampling 4 chains, 0 divergences: 100%|██████████| 402000/402000 [00:31<00:00, 12569.01draws/s]\n",
      "The number of effective samples is smaller than 10% for some parameters.\n"
     ]
    }
   ],
   "source": [
    "with pm.Model() as model:\n",
    "    # Defining prior distribution\n",
    "    N = pm.DiscreteUniform(\"num_tanks\", lower=data[\"serial_no\"].max(), upper=1000)\n",
    "    # Defining likelihood\n",
    "    likelihood = pm.DiscreteUniform(\"observed_sn\", lower=1, upper=N, observed=data[\"serial_no\"])\n",
    "    \n",
    "    # Defining MCMC algorithm (NOTE: Discrete data --> Metropolis)\n",
    "    step = pm.Metropolis()\n",
    "    # Defining initial values\n",
    "    start = {\"num_tanks\": largest_sn}\n",
    "    \n",
    "    # Sampling\n",
    "    trace = pm.sample(draws=100000, step=step, start=start)\n",
    "    # Discarding the burn-in period\n",
    "    burned_trace = trace[10000:]"
   ]
  },
  {
   "cell_type": "markdown",
   "metadata": {},
   "source": [
    "## Checking convergence"
   ]
  },
  {
   "cell_type": "code",
   "execution_count": 47,
   "metadata": {},
   "outputs": [
    {
     "name": "stderr",
     "output_type": "stream",
     "text": [
      "/Users/sean/miniconda3/envs/fagdag/lib/python3.7/site-packages/arviz/plots/backends/matplotlib/distplot.py:38: UserWarning: Argument backend_kwargs has not effect in matplotlib.plot_distSupplied value won't be used\n",
      "  \"Argument backend_kwargs has not effect in matplotlib.plot_dist\"\n"
     ]
    },
    {
     "data": {
      "image/png": "[encoded data removed]",
      "text/plain": [
       "<Figure size 864x144 with 2 Axes>"
      ]
     },
     "metadata": {
      "needs_background": "light"
     },
     "output_type": "display_data"
    }
   ],
   "source": [
    "# Plotting trace\n",
    "az.plot_trace(burned_trace)\n",
    "plt.show()"
   ]
  },
  {
   "cell_type": "markdown",
   "metadata": {},
   "source": [
    "According to our model, the expected number of tanks is approximately 369."
   ]
  },
  {
   "cell_type": "code",
   "execution_count": 48,
   "metadata": {},
   "outputs": [
    {
     "data": {
      "image/png": "[encoded data removed]",
      "text/plain": [
       "<Figure size 432x288 with 1 Axes>"
      ]
     },
     "metadata": {
      "needs_background": "light"
     },
     "output_type": "display_data"
    }
   ],
   "source": [
    "# Plotting posterior distribution\n",
    "az.plot_posterior(burned_trace)\n",
    "plt.show()"
   ]
  },
  {
   "cell_type": "code",
   "execution_count": 49,
   "metadata": {},
   "outputs": [
    {
     "data": {
      "text/html": [
       "<div>\n",
       "<style scoped>\n",
       "    .dataframe tbody tr th:only-of-type {\n",
       "        vertical-align: middle;\n",
       "    }\n",
       "\n",
       "    .dataframe tbody tr th {\n",
       "        vertical-align: top;\n",
       "    }\n",
       "\n",
       "    .dataframe thead th {\n",
       "        text-align: right;\n",
       "    }\n",
       "</style>\n",
       "<table border=\"1\" class=\"dataframe\">\n",
       "  <thead>\n",
       "    <tr style=\"text-align: right;\">\n",
       "      <th></th>\n",
       "      <th>mean</th>\n",
       "      <th>sd</th>\n",
       "      <th>hpd_3%</th>\n",
       "      <th>hpd_97%</th>\n",
       "      <th>mcse_mean</th>\n",
       "      <th>mcse_sd</th>\n",
       "      <th>ess_mean</th>\n",
       "      <th>ess_sd</th>\n",
       "      <th>ess_bulk</th>\n",
       "      <th>ess_tail</th>\n",
       "      <th>r_hat</th>\n",
       "    </tr>\n",
       "  </thead>\n",
       "  <tbody>\n",
       "    <tr>\n",
       "      <th>num_tanks</th>\n",
       "      <td>420.82</td>\n",
       "      <td>78.171</td>\n",
       "      <td>352.0</td>\n",
       "      <td>560.0</td>\n",
       "      <td>0.814</td>\n",
       "      <td>0.608</td>\n",
       "      <td>9215.0</td>\n",
       "      <td>8276.0</td>\n",
       "      <td>15077.0</td>\n",
       "      <td>11260.0</td>\n",
       "      <td>1.0</td>\n",
       "    </tr>\n",
       "  </tbody>\n",
       "</table>\n",
       "</div>"
      ],
      "text/plain": [
       "             mean      sd  hpd_3%  hpd_97%  mcse_mean  mcse_sd  ess_mean  \\\n",
       "num_tanks  420.82  78.171   352.0    560.0      0.814    0.608    9215.0   \n",
       "\n",
       "           ess_sd  ess_bulk  ess_tail  r_hat  \n",
       "num_tanks  8276.0   15077.0   11260.0    1.0  "
      ]
     },
     "execution_count": 49,
     "metadata": {},
     "output_type": "execute_result"
    }
   ],
   "source": [
    "# Printing summary of posterior distribution\n",
    "az.summary(burned_trace)"
   ]
  }
 ],
 "metadata": {
  "kernelspec": {
   "display_name": "Python 3",
   "language": "python",
   "name": "python3"
  },
  "language_info": {
   "codemirror_mode": {
    "name": "ipython",
    "version": 3
   },
   "file_extension": ".py",
   "mimetype": "text/x-python",
   "name": "python",
   "nbconvert_exporter": "python",
   "pygments_lexer": "ipython3",
   "version": "3.7.4"
  }
 },
 "nbformat": 4,
 "nbformat_minor": 2
}
