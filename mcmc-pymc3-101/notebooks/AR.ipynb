{
 "cells": [
  {
   "cell_type": "markdown",
   "metadata": {
    "ein.tags": [
     "worksheet-0"
    ],
    "slideshow": {
     "slide_type": "-"
    }
   },
   "source": [
    "# Weather forecast as an $AR(1)$ Model in pyMC3"
   ]
  },
  {
   "cell_type": "code",
   "execution_count": null,
   "metadata": {
    "autoscroll": "json-false",
    "ein.tags": [
     "worksheet-0"
    ],
    "slideshow": {
     "slide_type": "-"
    }
   },
   "outputs": [],
   "source": [
    "%matplotlib inline\n",
    "import pymc3 as pm\n",
    "import numpy as np\n",
    "import matplotlib.pyplot as plt\n",
    "import arviz as az\n",
    "import pandas as pd\n",
    "\n",
    "plt.style.use('seaborn-darkgrid')\n",
    "print('Running on PyMC3 v{}'.format(pm.__version__))"
   ]
  },
  {
   "cell_type": "markdown",
   "metadata": {},
   "source": [
    "### Load weather data from Blindern"
   ]
  },
  {
   "cell_type": "code",
   "execution_count": null,
   "metadata": {},
   "outputs": [],
   "source": [
    "weather_data = pd.read_csv('temperature_blindern.csv',header=None, index_col=0).rename(columns={1:'temperature'})\n",
    "print(f'Date range from {weather_data.index.min()} to {weather_data.index.max()}')\n",
    "weather_data.sample(10)"
   ]
  },
  {
   "cell_type": "markdown",
   "metadata": {},
   "source": [
    "### Use the last 2 years"
   ]
  },
  {
   "cell_type": "code",
   "execution_count": null,
   "metadata": {},
   "outputs": [],
   "source": [
    "y = np.array(weather_data)[-730:]\n",
    "dates = weather_data.index[-730:]"
   ]
  },
  {
   "cell_type": "code",
   "execution_count": null,
   "metadata": {},
   "outputs": [],
   "source": [
    "plt.figure(figsize=(20,10))\n",
    "plt.plot(dates, y);"
   ]
  },
  {
   "cell_type": "markdown",
   "metadata": {
    "ein.tags": [
     "worksheet-0"
    ],
    "slideshow": {
     "slide_type": "-"
    }
   },
   "source": [
    "Consider the following AR(1) process, initialized in the\n",
    "infinite past:\n",
    "$$\n",
    "   y_t = \\theta y_{t-1} + \\epsilon_t,\n",
    "$$\n",
    "where $\\epsilon_t \\overset{iid}{\\sim} {\\cal N}(0,1)$.  Suppose you'd like to learn about $\\theta$ from a a sample of observations $Y^T = \\{ y_0, y_1,\\ldots, y_T \\}$. \n",
    "  \n",
    "We choose $\\cal N (0, 1)$ as our prior for $\\theta$"
   ]
  },
  {
   "cell_type": "markdown",
   "metadata": {},
   "source": [
    "### Prior for  $\\theta$"
   ]
  },
  {
   "cell_type": "code",
   "execution_count": null,
   "metadata": {},
   "outputs": [],
   "source": [
    "from scipy.stats import norm\n",
    "x_axis = np.linspace(-5, 5, 101)\n",
    "plt.figure(figsize=(15,10))\n",
    "plt.plot(x_axis, norm.pdf(x_axis, loc=0, scale=1))\n",
    "plt.title('Prior for Theta');"
   ]
  },
  {
   "cell_type": "markdown",
   "metadata": {},
   "source": [
    "### Define model"
   ]
  },
  {
   "cell_type": "code",
   "execution_count": null,
   "metadata": {
    "autoscroll": "json-false",
    "ein.tags": [
     "worksheet-0"
    ],
    "slideshow": {
     "slide_type": "-"
    }
   },
   "outputs": [],
   "source": [
    "sigma = 1.0\n",
    "with pm.Model() as ar_weather:\n",
    "    beta = pm.Normal('beta', mu=0, sigma=sigma)\n",
    "    likelihood = pm.AR('likelihood', beta, sigma=1.0, observed=y)"
   ]
  },
  {
   "cell_type": "markdown",
   "metadata": {},
   "source": [
    "### MCMC sampling"
   ]
  },
  {
   "cell_type": "code",
   "execution_count": null,
   "metadata": {},
   "outputs": [],
   "source": [
    "with ar_weather:\n",
    "    trace_weather = pm.sample(1000, tune=3000, cores=2)"
   ]
  },
  {
   "cell_type": "code",
   "execution_count": null,
   "metadata": {
    "autoscroll": "json-false",
    "ein.tags": [
     "worksheet-0"
    ],
    "slideshow": {
     "slide_type": "-"
    }
   },
   "outputs": [],
   "source": [
    "print('Mean: {:5.3f}'.format(trace_weather['beta'].mean()))\n",
    "print('Std: {:5.3f}'.format(trace_weather['beta'].std()))"
   ]
  },
  {
   "cell_type": "code",
   "execution_count": null,
   "metadata": {},
   "outputs": [],
   "source": [
    "az.plot_trace(trace_weather);"
   ]
  },
  {
   "cell_type": "markdown",
   "metadata": {},
   "source": [
    "### Draw $\\theta$ from posterior and predict tomorrows weather "
   ]
  },
  {
   "cell_type": "code",
   "execution_count": null,
   "metadata": {},
   "outputs": [],
   "source": [
    "beta_weather = np.random.choice(trace_weather['beta'], 1000, replace=False)\n",
    "noise = np.random.normal(0, 1, 1000)\n",
    "y_next = beta_weather * y[-1]   + noise"
   ]
  },
  {
   "cell_type": "code",
   "execution_count": null,
   "metadata": {},
   "outputs": [],
   "source": [
    "plt.hist(y_next);\n",
    "plt.xlabel('Temperature', fontsize=16);"
   ]
  },
  {
   "cell_type": "code",
   "execution_count": null,
   "metadata": {},
   "outputs": [],
   "source": [
    "fig, ax = plt.subplots(1,1,figsize=(20,10))\n",
    "days = np.arange(0, len(y))\n",
    "ax.plot(y);\n",
    "ax.violinplot(y_next, [len(y)], widths=20, showmeans=True, showextrema=False, showmedians=True, points=500);\n",
    "ax.set_xticks(np.arange(0, len(y), 30));\n",
    "ax.set_xticklabels(dates[::30], rotation=60);\n",
    "ax.set_xlabel('Date', fontsize=18)\n",
    "ax.set_ylabel('Temperature in degrees celcius', fontsize=18)"
   ]
  }
 ],
 "metadata": {
  "kernelspec": {
   "display_name": "Python 3",
   "language": "python",
   "name": "python3"
  },
  "language_info": {
   "codemirror_mode": {
    "name": "ipython",
    "version": 3
   },
   "file_extension": ".py",
   "mimetype": "text/x-python",
   "name": "python",
   "nbconvert_exporter": "python",
   "pygments_lexer": "ipython3",
   "version": "3.6.5"
  },
  "name": "AR.ipynb"
 },
 "nbformat": 4,
 "nbformat_minor": 4
}
